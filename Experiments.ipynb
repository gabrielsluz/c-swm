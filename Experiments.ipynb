{
 "cells": [
  {
   "cell_type": "markdown",
   "metadata": {},
   "source": [
    "This notebook contains results and experiments with C-SWM"
   ]
  },
  {
   "cell_type": "markdown",
   "metadata": {},
   "source": [
    "## Number of objects\n",
    "Train parameters\n",
    "- Batch size = 512\n",
    "- Encoder = Large\n",
    "- Hidden dim = 512\n",
    "- Embedding dim = 10\n",
    "- Num_objects = ?\n",
    "- Epochs = 10 and 20\n",
    "- Learning rate 5e-4\n",
    "\n",
    "Evaluation parameters:\n",
    "- Linear: 2000 iterations\n",
    "- Fine tuning 30 and 60 epochs\n",
    "- 10% of MNIST train labels\n",
    "- Use transition model or not\n",
    "- Ranking metrics 1,5 and 10 steps"
   ]
  },
  {
   "cell_type": "markdown",
   "metadata": {},
   "source": [
    "How to visualize the results: Isolate result curves for each of the evaluation parameters. \n",
    "\n",
    "*We are testing for different number of epochs to evaluate correlation between variables and to check if we can get significant results with fewer epochs.\n",
    "\n",
    "How to evaluate quantitatively => Pearson correlation"
   ]
  },
  {
   "cell_type": "code",
   "execution_count": 86,
   "metadata": {},
   "outputs": [
    {
     "data": {
      "text/plain": [
       "'\\nProcesses an experiment dict, given mean and std dev values\\n'"
      ]
     },
     "execution_count": 86,
     "metadata": {},
     "output_type": "execute_result"
    }
   ],
   "source": [
    "import ast\n",
    "import torch\n",
    "from torch import tensor\n",
    "import copy\n",
    "    \n",
    "'''\n",
    "Function that extracts results from the results file.\n",
    "Results contain the results for specific experiments for specific parameters, encoded in a dict\n",
    "Return: result_list{sub_dict['experiment']: result, [param]: value}\n",
    "The order of the params matters\n",
    "'''\n",
    "def extract_results(file_path):\n",
    "    file_list = []\n",
    "    with open(file_path, \"r\") as f:\n",
    "        for line in f:\n",
    "            file_list.append(line[:-1])\n",
    "    \n",
    "    result_list = []\n",
    "    i = -1\n",
    "    temp_dict = None\n",
    "    while i < len(file_list)-1:\n",
    "        i += 1\n",
    "        if len(file_list[i]) == 0:\n",
    "            continue\n",
    "        elif file_list[i][0:4] == '----':\n",
    "            continue\n",
    "        elif file_list[i][0] == '{':\n",
    "            if not temp_dict is None:\n",
    "                result_list.append(temp_dict)\n",
    "            #Get train parameters\n",
    "            temp_dict = eval(file_list[i])\n",
    "        elif file_list[i][0:15] == \"use_trans_model\":\n",
    "            #Get if uses trans model and add to dict\n",
    "            temp_dict['use_trans_model'] = file_list[i].split(\"=\")[1]\n",
    "        elif file_list[i][0:9] == 'num_steps':\n",
    "            num_steps = file_list[i].split('=')[1]\n",
    "            i += 2\n",
    "            temp_dict['num_steps='+str(num_steps)] = eval(file_list[i])\n",
    "        else:\n",
    "            split_line = file_list[i].split(\" = \")\n",
    "            temp_dict[split_line[0]] = float(split_line[1])\n",
    "\n",
    "    return result_list\n",
    "\n",
    "'''\n",
    "Convert dict to a param key\n",
    "'''\n",
    "def dict_to_key(dict_target, varying_param, experiment_keys):\n",
    "    dict_copy = copy.deepcopy(dict_target)\n",
    "    del dict_copy[varying_param]\n",
    "    for exp_key in experiment_keys:\n",
    "        if exp_key in dict_copy:\n",
    "            del dict_copy[exp_key]\n",
    "    return str(dict_copy)\n",
    "\n",
    "'''\n",
    "Initializes the dictionary for certain parameters\n",
    "'''\n",
    "def init_result_dict(experiment_keys, varying_param):\n",
    "    result_dict = {}\n",
    "    for exp_key in experiment_keys:\n",
    "        result_dict[exp_key] = {\"result\": [], varying_param: []}\n",
    "    return result_dict\n",
    "\n",
    "'''\n",
    "Extracts results arrays for a specific varying param, one for each pair of fixed params and experiment\n",
    "varying_param => Parameter that is being altered at every iteration\n",
    "experiments_keys => dict keys that are the experiments\n",
    "keys that are not experiment or varying are considered fixed\n",
    "Returns a dictionary(fixed parameters) of dictionary(experiments) of lists(results) + list(varying_param_value)\n",
    "'''\n",
    "def get_results_array(result_list, varying_param, experiment_keys):\n",
    "    final_dict = {}\n",
    "    for result_dict in result_list:\n",
    "        param_key = dict_to_key(result_dict, varying_param, experiment_keys)\n",
    "        if not param_key in final_dict:\n",
    "            final_dict[param_key] = init_result_dict(experiment_keys, varying_param)\n",
    "        for exp_key in experiment_keys:\n",
    "            if exp_key in result_dict:\n",
    "                final_dict[param_key][exp_key][varying_param].append(result_dict[varying_param])\n",
    "                final_dict[param_key][exp_key]['result'].append(result_dict[exp_key])\n",
    "    return final_dict\n",
    "\n",
    "'''\n",
    "Uses a list of parameters to return the key to a result dictionary for certain parameters values\n",
    "Warns if there is a duplicate\n",
    "'''\n",
    "def get_param_key(params, values, results):\n",
    "    found = False\n",
    "    found_key = None\n",
    "    for key in results.keys():\n",
    "        key_dict = eval(key)\n",
    "        hits = 0\n",
    "        for param, value in zip(params, values):\n",
    "            if key_dict[param] == value:\n",
    "                hits += 1\n",
    "        if hits == len(params):\n",
    "            if found == True:\n",
    "                print(\"Duplicate\")\n",
    "                print(found_key)\n",
    "                print(key)\n",
    "                return None\n",
    "            found = True\n",
    "            found_key = key\n",
    "    return found_key\n",
    "\n",
    "'''\n",
    "Processes an experiment dict, given mean and std dev values\n",
    "'''"
   ]
  },
  {
   "cell_type": "code",
   "execution_count": 87,
   "metadata": {},
   "outputs": [],
   "source": [
    "experiment_keys = ['LinearEvalAcc', 'FineTuning10pc30epochs', 'FineTuning10pc60epochs', 'num_steps=1', 'num_steps=5', 'num_steps=10']\n",
    "varying_param = 'num_objects'\n",
    "result_list = extract_results(\"eval_all_results.txt\")\n",
    "results = get_results_array(result_list, varying_param, experiment_keys)"
   ]
  },
  {
   "cell_type": "code",
   "execution_count": 90,
   "metadata": {},
   "outputs": [
    {
     "data": {
      "text/plain": [
       "[<matplotlib.lines.Line2D at 0x106191470>]"
      ]
     },
     "execution_count": 90,
     "metadata": {},
     "output_type": "execute_result"
    },
    {
     "data": {
      "image/png": "[encoded data removed]",
      "text/plain": [
       "<Figure size 432x288 with 1 Axes>"
      ]
     },
     "metadata": {
      "needs_background": "light"
     },
     "output_type": "display_data"
    }
   ],
   "source": [
    "import matplotlib.pyplot as plt\n",
    "params = ['epochs', 'use_trans_model']\n",
    "values = [10, 'False']\n",
    "found_key = get_param_key(params, values, results)\n",
    "plt.plot(results[found_key]['LinearEvalAcc']['num_objects'][:6], results[found_key]['LinearEvalAcc']['result'][:6])"
   ]
  },
  {
   "cell_type": "code",
   "execution_count": 92,
   "metadata": {},
   "outputs": [
    {
     "data": {
      "text/plain": [
       "[<matplotlib.lines.Line2D at 0x116d87780>]"
      ]
     },
     "execution_count": 92,
     "metadata": {},
     "output_type": "execute_result"
    },
    {
     "data": {
      "image/png": "[encoded data removed]",
      "text/plain": [
       "<Figure size 432x288 with 1 Axes>"
      ]
     },
     "metadata": {
      "needs_background": "light"
     },
     "output_type": "display_data"
    }
   ],
   "source": [
    "params = ['epochs', 'use_trans_model']\n",
    "values = [10, 'False']\n",
    "found_key = get_param_key(params, values, results)\n",
    "plt.plot(results[found_key]['FineTuning10pc60epochs']['num_objects'][:6], results[found_key]['FineTuning10pc60epochs']['result'][:6])"
   ]
  },
  {
   "cell_type": "code",
   "execution_count": 93,
   "metadata": {},
   "outputs": [
    {
     "data": {
      "text/plain": [
       "[<matplotlib.lines.Line2D at 0x106116320>]"
      ]
     },
     "execution_count": 93,
     "metadata": {},
     "output_type": "execute_result"
    },
    {
     "data": {
      "image/png": "[encoded data removed]",
      "text/plain": [
       "<Figure size 432x288 with 1 Axes>"
      ]
     },
     "metadata": {
      "needs_background": "light"
     },
     "output_type": "display_data"
    }
   ],
   "source": [
    "params = ['epochs', 'use_trans_model']\n",
    "values = [10, 'False']\n",
    "found_key = get_param_key(params, values, results)\n",
    "plt.plot(results[found_key]['FineTuning10pc30epochs']['num_objects'][:6], results[found_key]['FineTuning10pc30epochs']['result'][:6])"
   ]
  },
  {
   "cell_type": "code",
   "execution_count": 91,
   "metadata": {},
   "outputs": [
    {
     "data": {
      "text/plain": [
       "{'LinearEvalAcc': {'result': [0.2847,\n",
       "   0.3899,\n",
       "   0.4188,\n",
       "   0.6198,\n",
       "   0.5059,\n",
       "   0.4684,\n",
       "   0.3448,\n",
       "   0.4264,\n",
       "   0.5237,\n",
       "   0.5467,\n",
       "   0.4855,\n",
       "   0.4742],\n",
       "  'num_objects': [2, 5, 10, 15, 20, 25, 2, 5, 10, 15, 20, 25]},\n",
       " 'FineTuning10pc30epochs': {'result': [0.3338,\n",
       "   0.806,\n",
       "   0.71,\n",
       "   0.7735,\n",
       "   0.8768,\n",
       "   0.762,\n",
       "   0.2584,\n",
       "   0.5726,\n",
       "   0.7876,\n",
       "   0.8023,\n",
       "   0.8552,\n",
       "   0.8372],\n",
       "  'num_objects': [2, 5, 10, 15, 20, 25, 2, 5, 10, 15, 20, 25]},\n",
       " 'FineTuning10pc60epochs': {'result': [0.5989,\n",
       "   0.898,\n",
       "   0.8859,\n",
       "   0.9071,\n",
       "   0.9264,\n",
       "   0.9079,\n",
       "   0.4656,\n",
       "   0.8103,\n",
       "   0.8664,\n",
       "   0.9209,\n",
       "   0.9241,\n",
       "   0.9227],\n",
       "  'num_objects': [2, 5, 10, 15, 20, 25, 2, 5, 10, 15, 20, 25]},\n",
       " 'num_steps=1': {'result': [], 'num_objects': []},\n",
       " 'num_steps=5': {'result': [], 'num_objects': []},\n",
       " 'num_steps=10': {'result': [], 'num_objects': []}}"
      ]
     },
     "execution_count": 91,
     "metadata": {},
     "output_type": "execute_result"
    }
   ],
   "source": [
    "results[found_key]"
   ]
  },
  {
   "cell_type": "code",
   "execution_count": null,
   "metadata": {},
   "outputs": [],
   "source": []
  }
 ],
 "metadata": {
  "kernelspec": {
   "display_name": "Python 3",
   "language": "python",
   "name": "python3"
  },
  "language_info": {
   "codemirror_mode": {
    "name": "ipython",
    "version": 3
   },
   "file_extension": ".py",
   "mimetype": "text/x-python",
   "name": "python",
   "nbconvert_exporter": "python",
   "pygments_lexer": "ipython3",
   "version": "3.6.12"
  }
 },
 "nbformat": 4,
 "nbformat_minor": 4
}
