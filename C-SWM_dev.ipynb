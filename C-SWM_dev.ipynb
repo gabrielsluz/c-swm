{
 "cells": [
  {
   "cell_type": "code",
   "execution_count": 1,
   "metadata": {},
   "outputs": [
    {
     "name": "stdout",
     "output_type": "stream",
     "text": [
      "INFO: Making new env: ShapesTrain-v0\n",
      "iter 0\n",
      "INFO: Making new env: ShapesEval-v0\n",
      "iter 0\n",
      "iter 10\n",
      "iter 20\n",
      "iter 30\n",
      "iter 40\n",
      "iter 50\n",
      "iter 60\n",
      "iter 70\n",
      "iter 80\n",
      "iter 90\n"
     ]
    }
   ],
   "source": [
    "!python data_gen/env.py --env_id ShapesTrain-v0 --fname data/shapes_train.h5 --num_episodes 10 --seed 1\n",
    "!python data_gen/env.py --env_id ShapesEval-v0 --fname data/shapes_eval.h5 --num_episodes 100 --seed 2"
   ]
  },
  {
   "cell_type": "code",
   "execution_count": 2,
   "metadata": {},
   "outputs": [
    {
     "name": "stdout",
     "output_type": "stream",
     "text": [
      "Starting model training...\n",
      "Epoch: 1 [0/1000 (0%)]\tLoss: 0.001106\n",
      "====> Epoch: 1 Average loss: 0.001106\n",
      "Epoch: 2 [0/1000 (0%)]\tLoss: 0.015802\n",
      "====> Epoch: 2 Average loss: 0.015802\n"
     ]
    }
   ],
   "source": [
    "!python train.py --dataset data/shapes_train.h5 --encoder small --name shapes --epochs 2"
   ]
  },
  {
   "cell_type": "markdown",
   "metadata": {},
   "source": [
    "### Slot Attention dev"
   ]
  },
  {
   "cell_type": "code",
   "execution_count": 4,
   "metadata": {},
   "outputs": [
    {
     "name": "stdout",
     "output_type": "stream",
     "text": [
      "Starting model training...\n",
      "Epoch: 1 [0/1000 (0%)]\tLoss: 0.001941\n",
      "====> Epoch: 1 Average loss: 0.001941\n"
     ]
    }
   ],
   "source": [
    "!python train_slot_attn.py --dataset data/shapes_train.h5 --encoder small --name shapes --epochs 1 --use_slot_attn"
   ]
  },
  {
   "cell_type": "code",
   "execution_count": 14,
   "metadata": {},
   "outputs": [
    {
     "name": "stdout",
     "output_type": "stream",
     "text": [
      "Starting model training...\n",
      "Epoch: 1 [0/1000 (0%)]\tLoss: 0.001106\n",
      "====> Epoch: 1 Average loss: 0.001106\n"
     ]
    }
   ],
   "source": [
    "!python train_slot_attn.py --dataset data/shapes_train.h5 --encoder small --name shapes --epochs 1"
   ]
  },
  {
   "cell_type": "code",
   "execution_count": 9,
   "metadata": {},
   "outputs": [
    {
     "name": "stdout",
     "output_type": "stream",
     "text": [
      "Processed 1 batches of size 100\r\n",
      "Size of current topk evaluation batch: 100\r\n",
      "Hits @ 1: 0.01\r\n",
      "MRR: 0.05184808507173358\r\n"
     ]
    }
   ],
   "source": [
    "!python eval_slot_attn.py --dataset data/shapes_eval.h5 --save-folder checkpoints/shapes --num-steps 1"
   ]
  },
  {
   "cell_type": "code",
   "execution_count": null,
   "metadata": {},
   "outputs": [],
   "source": []
  }
 ],
 "metadata": {
  "kernelspec": {
   "display_name": "Python 3",
   "language": "python",
   "name": "python3"
  },
  "language_info": {
   "codemirror_mode": {
    "name": "ipython",
    "version": 3
   },
   "file_extension": ".py",
   "mimetype": "text/x-python",
   "name": "python",
   "nbconvert_exporter": "python",
   "pygments_lexer": "ipython3",
   "version": "3.6.12"
  }
 },
 "nbformat": 4,
 "nbformat_minor": 4
}
